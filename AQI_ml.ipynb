{
  "cells": [
    {
      "cell_type": "markdown",
      "metadata": {
        "colab_type": "text",
        "id": "view-in-github"
      },
      "source": [
        "<a href=\"https://colab.research.google.com/github/leeh-nix/air-quality-index-prediction/blob/main/AQI_ml.ipynb\" target=\"_parent\"><img src=\"https://colab.research.google.com/assets/colab-badge.svg\" alt=\"Open In Colab\"/></a>"
      ]
    },
    {
      "cell_type": "code",
      "execution_count": 1,
      "metadata": {
        "id": "isZudMlatvw4"
      },
      "outputs": [],
      "source": [
        "import pandas as pd\n",
        "import tensorflow as tf\n",
        "import pathlib\n",
        "from sklearn.model_selection import train_test_split\n"
      ]
    },
    {
      "cell_type": "code",
      "execution_count": 2,
      "metadata": {
        "id": "mmLqjc09EGe_"
      },
      "outputs": [],
      "source": [
        "# dataset_path = pathlib.Path(\n",
        "#     \"/content/drive/MyDrive/\"\n",
        "# )\n",
        "df = pd.read_csv(\"weather_dataset.csv\")\n",
        "dataset = df"
      ]
    },
    {
      "cell_type": "code",
      "execution_count": 3,
      "metadata": {
        "id": "_mlVDtMrfOG6"
      },
      "outputs": [],
      "source": [
        "columns_to_drop = [\n",
        "    \"last_updated\",\n",
        "    \"last_updated_epoch\",\n",
        "    \"wind_direction\",\n",
        "    \"sunrise\",\n",
        "    \"sunset\",\n",
        "    \"moonrise\",\n",
        "    \"moonset\",\n",
        "    \"moon_phase\",\n",
        "    \"moon_illumination\",\n",
        "    \"feels_like_celsius\",\n",
        "    \"feels_like_fahrenheit\",\n",
        "    \"precip_in\",\n",
        "    \"temperature_fahrenheit\",\n",
        "    \"pressure_in\",\n",
        "    \"timezone\",\n",
        "]\n",
        "dataset = dataset.drop(columns=columns_to_drop)\n",
        "\n",
        "\n",
        "us_dataset = dataset.drop(\n",
        "    columns=[\"air_quality_gb-defra-index\", \"visibility_km\", \"gust_kph\", \"wind_kph\"]\n",
        ")\n",
        "\n",
        "\n",
        "gb_dataset = dataset.drop(\n",
        "    columns=[\"air_quality_us-epa-index\", \"visibility_miles\", \"gust_mph\", \"wind_mph\"]\n",
        ")"
      ]
    },
    {
      "cell_type": "code",
      "execution_count": 4,
      "metadata": {
        "id": "4DMkMn2QfOD1"
      },
      "outputs": [
        {
          "name": "stdout",
          "output_type": "stream",
          "text": [
            "Index(['country', 'location_name', 'region', 'latitude', 'longitude',\n",
            "       'timezone', 'last_updated_epoch', 'last_updated', 'temperature_celsius',\n",
            "       'temperature_fahrenheit', 'condition_text', 'wind_mph', 'wind_kph',\n",
            "       'wind_degree', 'wind_direction', 'pressure_mb', 'pressure_in',\n",
            "       'precip_mm', 'precip_in', 'humidity', 'cloud', 'feels_like_celsius',\n",
            "       'feels_like_fahrenheit', 'visibility_km', 'visibility_miles',\n",
            "       'uv_index', 'gust_mph', 'gust_kph', 'air_quality_Carbon_Monoxide',\n",
            "       'air_quality_Ozone', 'air_quality_Nitrogen_dioxide',\n",
            "       'air_quality_Sulphur_dioxide', 'air_quality_PM2.5', 'air_quality_PM10',\n",
            "       'air_quality_us-epa-index', 'air_quality_gb-defra-index', 'sunrise',\n",
            "       'sunset', 'moonrise', 'moonset', 'moon_phase', 'moon_illumination'],\n",
            "      dtype='object')\n",
            "Index(['country', 'location_name', 'region', 'latitude', 'longitude',\n",
            "       'temperature_celsius', 'condition_text', 'wind_mph', 'wind_kph',\n",
            "       'wind_degree', 'pressure_mb', 'precip_mm', 'humidity', 'cloud',\n",
            "       'visibility_km', 'visibility_miles', 'uv_index', 'gust_mph', 'gust_kph',\n",
            "       'air_quality_Carbon_Monoxide', 'air_quality_Ozone',\n",
            "       'air_quality_Nitrogen_dioxide', 'air_quality_Sulphur_dioxide',\n",
            "       'air_quality_PM2.5', 'air_quality_PM10', 'air_quality_us-epa-index',\n",
            "       'air_quality_gb-defra-index'],\n",
            "      dtype='object')\n",
            "Index(['country', 'location_name', 'region', 'latitude', 'longitude',\n",
            "       'temperature_celsius', 'condition_text', 'wind_mph', 'wind_degree',\n",
            "       'pressure_mb', 'precip_mm', 'humidity', 'cloud', 'visibility_miles',\n",
            "       'uv_index', 'gust_mph', 'air_quality_Carbon_Monoxide',\n",
            "       'air_quality_Ozone', 'air_quality_Nitrogen_dioxide',\n",
            "       'air_quality_Sulphur_dioxide', 'air_quality_PM2.5', 'air_quality_PM10',\n",
            "       'air_quality_us-epa-index'],\n",
            "      dtype='object')\n",
            "Index(['country', 'location_name', 'region', 'latitude', 'longitude',\n",
            "       'temperature_celsius', 'condition_text', 'wind_kph', 'wind_degree',\n",
            "       'pressure_mb', 'precip_mm', 'humidity', 'cloud', 'visibility_km',\n",
            "       'uv_index', 'gust_kph', 'air_quality_Carbon_Monoxide',\n",
            "       'air_quality_Ozone', 'air_quality_Nitrogen_dioxide',\n",
            "       'air_quality_Sulphur_dioxide', 'air_quality_PM2.5', 'air_quality_PM10',\n",
            "       'air_quality_gb-defra-index'],\n",
            "      dtype='object')\n"
          ]
        }
      ],
      "source": [
        "print(df.columns)\n",
        "print(dataset.columns)\n",
        "print(us_dataset.columns)\n",
        "print(gb_dataset.columns)\n"
      ]
    },
    {
      "cell_type": "code",
      "execution_count": 5,
      "metadata": {
        "colab": {
          "base_uri": "https://localhost:8080/"
        },
        "id": "GJsjtdCX2eUn",
        "outputId": "9acfbece-97c0-41d4-c1f8-8c8797b40eca"
      },
      "outputs": [
        {
          "data": {
            "text/plain": [
              "Index(['country', 'location_name', 'region', 'latitude', 'longitude',\n",
              "       'temperature_celsius', 'condition_text', 'wind_kph', 'wind_degree',\n",
              "       'pressure_mb', 'precip_mm', 'humidity', 'cloud', 'visibility_km',\n",
              "       'uv_index', 'gust_kph', 'air_quality_Carbon_Monoxide',\n",
              "       'air_quality_Ozone', 'air_quality_Nitrogen_dioxide',\n",
              "       'air_quality_Sulphur_dioxide', 'air_quality_PM2.5', 'air_quality_PM10',\n",
              "       'air_quality_gb-defra-index'],\n",
              "      dtype='object')"
            ]
          },
          "execution_count": 5,
          "metadata": {},
          "output_type": "execute_result"
        }
      ],
      "source": [
        "# gb_dataset = gb_dataset.drop(columns=[\"\"])\n",
        "gb_dataset.columns"
      ]
    },
    {
      "cell_type": "code",
      "execution_count": 6,
      "metadata": {
        "colab": {
          "base_uri": "https://localhost:8080/"
        },
        "id": "ZL0Wqgri2M7R",
        "outputId": "2bc31584-ea79-46c4-abee-8c08cdeb2c47"
      },
      "outputs": [
        {
          "name": "stdout",
          "output_type": "stream",
          "text": [
            "Index(['country', 'location_name', 'region', 'latitude', 'longitude',\n",
            "       'temperature_celsius', 'condition_text', 'wind_kph', 'wind_degree',\n",
            "       'pressure_mb', 'precip_mm', 'humidity', 'cloud', 'visibility_km',\n",
            "       'uv_index', 'gust_kph', 'air_quality_Carbon_Monoxide',\n",
            "       'air_quality_Ozone', 'air_quality_Nitrogen_dioxide',\n",
            "       'air_quality_Sulphur_dioxide', 'air_quality_PM2.5', 'air_quality_PM10'],\n",
            "      dtype='object')\n",
            "0         2\n",
            "1         1\n",
            "2         2\n",
            "3         1\n",
            "4         1\n",
            "         ..\n",
            "74438    10\n",
            "74439     2\n",
            "74440    10\n",
            "74441     9\n",
            "74442    10\n",
            "Name: air_quality_gb-defra-index, Length: 74443, dtype: int64\n"
          ]
        }
      ],
      "source": [
        "X = gb_dataset.iloc[:, :-1]\n",
        "y = gb_dataset.iloc[:, -1]\n",
        "print(X.columns)\n",
        "print(y)"
      ]
    },
    {
      "cell_type": "code",
      "execution_count": 7,
      "metadata": {},
      "outputs": [
        {
          "name": "stdout",
          "output_type": "stream",
          "text": [
            "   latitude  longitude  temperature_celsius  wind_kph  wind_degree  \\\n",
            "0     24.57      77.72                 27.5      20.5          281   \n",
            "1     23.33      77.80                 27.5      15.5          287   \n",
            "2     22.07      78.93                 26.3      18.4          317   \n",
            "3     21.86      77.93                 25.6      16.9          297   \n",
            "4     22.75      77.72                 27.2      16.2          274   \n",
            "\n",
            "   pressure_mb  precip_mm  humidity  cloud  visibility_km  ...  \\\n",
            "0       1008.0        0.0        67     26           10.0  ...   \n",
            "1       1008.0        0.0        70     19           10.0  ...   \n",
            "2       1009.0        0.0        70     51           10.0  ...   \n",
            "3       1009.0        0.0        76     65           10.0  ...   \n",
            "4       1009.0        0.0        74     82           10.0  ...   \n",
            "\n",
            "   condition_text_Patchy light rain  \\\n",
            "0                               0.0   \n",
            "1                               0.0   \n",
            "2                               0.0   \n",
            "3                               0.0   \n",
            "4                               0.0   \n",
            "\n",
            "   condition_text_Patchy light rain with thunder  \\\n",
            "0                                            0.0   \n",
            "1                                            0.0   \n",
            "2                                            0.0   \n",
            "3                                            0.0   \n",
            "4                                            0.0   \n",
            "\n",
            "   condition_text_Patchy light snow  \\\n",
            "0                               0.0   \n",
            "1                               0.0   \n",
            "2                               0.0   \n",
            "3                               0.0   \n",
            "4                               0.0   \n",
            "\n",
            "   condition_text_Patchy light snow with thunder  \\\n",
            "0                                            0.0   \n",
            "1                                            0.0   \n",
            "2                                            0.0   \n",
            "3                                            0.0   \n",
            "4                                            0.0   \n",
            "\n",
            "   condition_text_Patchy moderate snow  condition_text_Patchy rain possible  \\\n",
            "0                                  0.0                                  0.0   \n",
            "1                                  0.0                                  0.0   \n",
            "2                                  0.0                                  0.0   \n",
            "3                                  0.0                                  0.0   \n",
            "4                                  0.0                                  0.0   \n",
            "\n",
            "   condition_text_Patchy snow possible  condition_text_Sunny  \\\n",
            "0                                  0.0                   0.0   \n",
            "1                                  0.0                   1.0   \n",
            "2                                  0.0                   0.0   \n",
            "3                                  0.0                   0.0   \n",
            "4                                  0.0                   0.0   \n",
            "\n",
            "   condition_text_Thundery outbreaks possible  \\\n",
            "0                                         0.0   \n",
            "1                                         0.0   \n",
            "2                                         0.0   \n",
            "3                                         0.0   \n",
            "4                                         0.0   \n",
            "\n",
            "   condition_text_Torrential rain shower  \n",
            "0                                    0.0  \n",
            "1                                    0.0  \n",
            "2                                    0.0  \n",
            "3                                    0.0  \n",
            "4                                    0.0  \n",
            "\n",
            "[5 rows x 631 columns]\n"
          ]
        }
      ],
      "source": [
        "from sklearn.preprocessing import OneHotEncoder\n",
        "\n",
        "# Assuming your DataFrame is named 'df'\n",
        "# Select the columns to one-hot encode\n",
        "columns_to_encode = [\"country\", \"location_name\", \"region\", \"condition_text\"]\n",
        "\n",
        "# Create a OneHotEncoder instance\n",
        "encoder = OneHotEncoder(sparse_output=False, drop=\"first\")\n",
        "\n",
        "# Fit and transform the selected columns\n",
        "encoded_columns = encoder.fit_transform(X[columns_to_encode])\n",
        "\n",
        "# Create a DataFrame from the encoded columns\n",
        "X_encoded = pd.DataFrame(\n",
        "    encoded_columns, columns=encoder.get_feature_names_out(columns_to_encode)\n",
        ")\n",
        "\n",
        "# Concatenate the original DataFrame with the new DataFrame\n",
        "X = pd.concat([X, X_encoded], axis=1)\n",
        "\n",
        "# Drop the original categorical columns\n",
        "X = X.drop(columns=columns_to_encode)\n",
        "\n",
        "# Display the resulting DataFrame\n",
        "print(X.head())"
      ]
    },
    {
      "cell_type": "code",
      "execution_count": 8,
      "metadata": {},
      "outputs": [
        {
          "data": {
            "text/plain": [
              "(74443, 631)"
            ]
          },
          "execution_count": 8,
          "metadata": {},
          "output_type": "execute_result"
        }
      ],
      "source": [
        "X.shape"
      ]
    },
    {
      "cell_type": "code",
      "execution_count": 9,
      "metadata": {
        "id": "hmd3SPPbfOAW"
      },
      "outputs": [],
      "source": [
        "X_train, X_test, y_train, y_test = train_test_split(\n",
        "    X, y, test_size=0.2, random_state=42)"
      ]
    },
    {
      "cell_type": "code",
      "execution_count": 10,
      "metadata": {},
      "outputs": [
        {
          "name": "stdout",
          "output_type": "stream",
          "text": [
            "(59554, 631) (14889, 631) (59554,) (14889,)\n"
          ]
        }
      ],
      "source": [
        "print(X_train.shape, X_test.shape, y_train.shape, y_test.shape)"
      ]
    },
    {
      "cell_type": "code",
      "execution_count": null,
      "metadata": {
        "id": "P5gz_0xlWqJ1"
      },
      "outputs": [],
      "source": []
    }
  ],
  "metadata": {
    "colab": {
      "authorship_tag": "ABX9TyPCq0zFxnJfGQFoMIdgEy+X",
      "include_colab_link": true,
      "mount_file_id": "1M-g77uFxQRAac4qFejjzxjxscbayvcUm",
      "provenance": []
    },
    "kernelspec": {
      "display_name": "Python 3",
      "name": "python3"
    },
    "language_info": {
      "codemirror_mode": {
        "name": "ipython",
        "version": 3
      },
      "file_extension": ".py",
      "mimetype": "text/x-python",
      "name": "python",
      "nbconvert_exporter": "python",
      "pygments_lexer": "ipython3",
      "version": "3.11.0"
    }
  },
  "nbformat": 4,
  "nbformat_minor": 0
}
