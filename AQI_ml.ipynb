{
  "cells": [
    {
      "cell_type": "markdown",
      "metadata": {
        "colab_type": "text",
        "id": "view-in-github"
      },
      "source": [
        "<a href=\"https://colab.research.google.com/github/leeh-nix/air-quality-index-prediction/blob/main/AQI_ml.ipynb\" target=\"_parent\"><img src=\"https://colab.research.google.com/assets/colab-badge.svg\" alt=\"Open In Colab\"/></a>"
      ]
    },
    {
      "cell_type": "code",
      "execution_count": null,
      "metadata": {
        "id": "isZudMlatvw4"
      },
      "outputs": [],
      "source": [
        "import pandas as pd\n",
        "import tensorflow as tf\n",
        "import pathlib\n",
        "import matplotlib.pyplot as plt\n",
        "from sklearn.model_selection import train_test_split\n",
        "from sklearn.preprocessing import OneHotEncoder"
      ]
    },
    {
      "cell_type": "code",
      "execution_count": null,
      "metadata": {
        "id": "mmLqjc09EGe_"
      },
      "outputs": [],
      "source": [
        "# dataset_path = pathlib.Path(\n",
        "#     \"/content/drive/MyDrive/\"\n",
        "# )\n",
        "df = pd.read_csv(\"weather_dataset.csv\")\n",
        "dataset = df"
      ]
    },
    {
      "cell_type": "markdown",
      "metadata": {},
      "source": [
        "## Preprocessing"
      ]
    },
    {
      "cell_type": "code",
      "execution_count": null,
      "metadata": {
        "id": "_mlVDtMrfOG6"
      },
      "outputs": [],
      "source": [
        "columns_to_drop = [\n",
        "    \"last_updated\",\n",
        "    \"last_updated_epoch\",\n",
        "    \"wind_direction\",\n",
        "    \"sunrise\",\n",
        "    \"sunset\",\n",
        "    \"moonrise\",\n",
        "    \"moonset\",\n",
        "    \"moon_phase\",\n",
        "    \"moon_illumination\",\n",
        "    \"feels_like_celsius\",\n",
        "    \"feels_like_fahrenheit\",\n",
        "    \"precip_in\",\n",
        "    \"temperature_fahrenheit\",\n",
        "    \"pressure_in\",\n",
        "    \"timezone\",\n",
        "]\n",
        "dataset = dataset.drop(columns=columns_to_drop)\n",
        "\n",
        "us_dataset = dataset.drop(\n",
        "    columns=[\"air_quality_gb-defra-index\", \"visibility_km\", \"gust_kph\", \"wind_kph\"]\n",
        ")\n",
        "\n",
        "gb_dataset = dataset.drop(\n",
        "    columns=[\"air_quality_us-epa-index\", \"visibility_miles\", \"gust_mph\", \"wind_mph\"]\n",
        ")"
      ]
    },
    {
      "cell_type": "code",
      "execution_count": null,
      "metadata": {
        "id": "4DMkMn2QfOD1"
      },
      "outputs": [],
      "source": [
        "# Display columns of dataset\n",
        "# print(df.columns)\n",
        "# print(dataset.columns)\n",
        "# print(us_dataset.columns)\n",
        "# print(gb_dataset.columns)\n"
      ]
    },
    {
      "cell_type": "code",
      "execution_count": null,
      "metadata": {
        "colab": {
          "base_uri": "https://localhost:8080/"
        },
        "id": "GJsjtdCX2eUn",
        "outputId": "9acfbece-97c0-41d4-c1f8-8c8797b40eca"
      },
      "outputs": [],
      "source": [
        "# gb_dataset = gb_dataset.drop(columns=[\"\"])\n",
        "gb_dataset.columns"
      ]
    },
    {
      "cell_type": "code",
      "execution_count": null,
      "metadata": {
        "colab": {
          "base_uri": "https://localhost:8080/"
        },
        "id": "ZL0Wqgri2M7R",
        "outputId": "2bc31584-ea79-46c4-abee-8c08cdeb2c47"
      },
      "outputs": [],
      "source": [
        "X = gb_dataset.iloc[:, :-1]\n",
        "y = gb_dataset.iloc[:, -1]\n",
        "print(X.columns)\n",
        "print(y)"
      ]
    },
    {
      "cell_type": "code",
      "execution_count": null,
      "metadata": {},
      "outputs": [],
      "source": []
    },
    {
      "cell_type": "markdown",
      "metadata": {},
      "source": [
        "### One Hot Encoding"
      ]
    },
    {
      "cell_type": "code",
      "execution_count": null,
      "metadata": {},
      "outputs": [],
      "source": [
        "columns_to_encode = [\"country\", \"location_name\", \"region\", \"condition_text\"]\n",
        "encoder = OneHotEncoder(sparse_output=False, drop=\"first\")\n",
        "encoded_columns = encoder.fit_transform(X[columns_to_encode])\n",
        "X_encoded = pd.DataFrame(\n",
        "    encoded_columns, columns=encoder.get_feature_names_out(columns_to_encode)\n",
        ")\n",
        "X = pd.concat([X, X_encoded], axis=1)\n",
        "X = X.drop(columns=columns_to_encode)\n",
        "\n",
        "print(X.head())"
      ]
    },
    {
      "cell_type": "code",
      "execution_count": null,
      "metadata": {},
      "outputs": [],
      "source": [
        "X.shape"
      ]
    },
    {
      "cell_type": "markdown",
      "metadata": {},
      "source": [
        "### Splitting"
      ]
    },
    {
      "cell_type": "code",
      "execution_count": null,
      "metadata": {
        "id": "hmd3SPPbfOAW"
      },
      "outputs": [],
      "source": [
        "X_train, X_test, y_train, y_test = train_test_split(\n",
        "    X, y, test_size=0.2, random_state=42)"
      ]
    },
    {
      "cell_type": "code",
      "execution_count": null,
      "metadata": {},
      "outputs": [],
      "source": [
        "print(X_train.shape, X_test.shape, y_train.shape, y_test.shape)"
      ]
    },
    {
      "cell_type": "markdown",
      "metadata": {},
      "source": [
        "## Linear Regression Model"
      ]
    },
    {
      "cell_type": "code",
      "execution_count": null,
      "metadata": {},
      "outputs": [],
      "source": [
        "from sklearn.linear_model import LinearRegression\n",
        "from sklearn.metrics import mean_squared_error"
      ]
    },
    {
      "cell_type": "code",
      "execution_count": null,
      "metadata": {},
      "outputs": [],
      "source": [
        "model_lr = LinearRegression()\n",
        "model_lr.fit(X_train, y_train)\n",
        "\n",
        "# Make predictions on the test set\n",
        "y_pred_lr = model_lr.predict(X_test)"
      ]
    },
    {
      "cell_type": "code",
      "execution_count": null,
      "metadata": {},
      "outputs": [],
      "source": [
        "# Evaluate the model_1\n",
        "mse = mean_squared_error(y_test, y_pred_lr)\n",
        "print(f\"Mean Squared Error: {mse}\")"
      ]
    },
    {
      "cell_type": "code",
      "execution_count": null,
      "metadata": {},
      "outputs": [],
      "source": [
        "# Plotting\n",
        "plt.figure(figsize=(10, 6))\n",
        "plt.scatter(y_test, y_pred_lr, alpha=0.3)\n",
        "plt.title(\"Actual vs Predicted\")\n",
        "plt.xlabel(\"Actual Values\")\n",
        "plt.ylabel(\"Predicted Values\")\n",
        "plt.show()"
      ]
    },
    {
      "cell_type": "code",
      "execution_count": null,
      "metadata": {},
      "outputs": [],
      "source": [
        "plt.figure(figsize=(10, 6))\n",
        "plt.plot(model_lr.coef_)\n",
        "plt.show()"
      ]
    },
    {
      "cell_type": "markdown",
      "metadata": {},
      "source": [
        "## Neural Network Model"
      ]
    },
    {
      "cell_type": "code",
      "execution_count": null,
      "metadata": {},
      "outputs": [],
      "source": [
        "import tensorflow as tf\n",
        "\n",
        "# Define the model\n",
        "model_nn = tf.keras.models.Sequential()\n",
        "model_nn.add(tf.keras.layers.Dense(128, activation=\"relu\", input_shape=(X_train.shape[1],)))\n",
        "model_nn.add(tf.keras.layers.Dense(64, activation=\"relu\"))\n",
        "model_nn.add(tf.keras.layers.Dense(1))  # Output layer with 1 neuron for regression\n",
        "\n",
        "# Compile the model_nn\n",
        "model_nn.compile(\n",
        "    optimizer=\"adam\", loss=\"mean_squared_error\"\n",
        ")  # Use mean squared error for regression\n",
        "\n",
        "# Train the model_nn\n",
        "history = model_nn.fit(\n",
        "    X_train, y_train, epochs=10, batch_size=32, validation_data=(X_test, y_test)\n",
        ")\n",
        "\n",
        "# Evaluate the model_nn\n",
        "loss = model_nn.evaluate(X_test, y_test)\n",
        "print(f\"Mean Squared Error on Test Set: {loss:.2f}\")\n",
        "\n",
        "# Make predictions\n",
        "y_pred = model_nn.predict(X_test)"
      ]
    },
    {
      "cell_type": "code",
      "execution_count": null,
      "metadata": {},
      "outputs": [],
      "source": [
        "# Plotting the true vs predicted values\n",
        "plt.scatter(y_test, y_pred)\n",
        "plt.xlabel(\"True Values\")\n",
        "plt.ylabel(\"Predictions\")\n",
        "plt.show()"
      ]
    },
    {
      "cell_type": "code",
      "execution_count": null,
      "metadata": {},
      "outputs": [],
      "source": [
        "# visualize the model\n",
        "plt.plot(history.history[\"loss\"])\n",
        "plt.xlabel(\"Epoch\")\n",
        "plt.ylabel(\"Loss\")"
      ]
    },
    {
      "cell_type": "code",
      "execution_count": null,
      "metadata": {},
      "outputs": [],
      "source": []
    }
  ],
  "metadata": {
    "colab": {
      "authorship_tag": "ABX9TyPCq0zFxnJfGQFoMIdgEy+X",
      "include_colab_link": true,
      "mount_file_id": "1M-g77uFxQRAac4qFejjzxjxscbayvcUm",
      "provenance": []
    },
    "kernelspec": {
      "display_name": "Python 3",
      "name": "python3"
    },
    "language_info": {
      "codemirror_mode": {
        "name": "ipython",
        "version": 3
      },
      "file_extension": ".py",
      "mimetype": "text/x-python",
      "name": "python",
      "nbconvert_exporter": "python",
      "pygments_lexer": "ipython3",
      "version": "3.11.0"
    }
  },
  "nbformat": 4,
  "nbformat_minor": 0
}
